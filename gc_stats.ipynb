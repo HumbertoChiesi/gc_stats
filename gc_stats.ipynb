{
  "nbformat": 4,
  "nbformat_minor": 0,
  "metadata": {
    "colab": {
      "name": "gc_stats.ipynb",
      "provenance": [],
      "collapsed_sections": [
        "jzWVT3pV8xSI",
        "cY-nCLqI0Z8Q",
        "fbhCmjTh0hLm",
        "Z3oprvrD2FlP",
        "ZouAA2zjVRPN",
        "J06Bj-ssVH6C",
        "So1LHekPU94u",
        "bp7K1F87U2v3"
      ],
      "authorship_tag": "ABX9TyOOFvS0jF4spEaGuXlIImk6",
      "include_colab_link": true
    },
    "kernelspec": {
      "name": "python3",
      "display_name": "Python 3"
    },
    "language_info": {
      "name": "python"
    }
  },
  "cells": [
    {
      "cell_type": "markdown",
      "metadata": {
        "id": "view-in-github",
        "colab_type": "text"
      },
      "source": [
        "<a href=\"https://colab.research.google.com/github/HumbertoChiesi/gc_stats/blob/main/gc_stats.ipynb\" target=\"_parent\"><img src=\"https://colab.research.google.com/assets/colab-badge.svg\" alt=\"Open In Colab\"/></a>"
      ]
    },
    {
      "cell_type": "markdown",
      "source": [
        ""
      ],
      "metadata": {
        "id": "kQ1uHP1qy9q6"
      }
    },
    {
      "cell_type": "markdown",
      "source": [
        "# **IMPORTES**"
      ],
      "metadata": {
        "id": "ecJ9DcPCzF1C"
      }
    },
    {
      "cell_type": "code",
      "source": [
        "!pip install lightgbm\n",
        "!pip install catboost\n",
        "!pip install xgboost"
      ],
      "metadata": {
        "colab": {
          "base_uri": "https://localhost:8080/"
        },
        "id": "AmNPRBmtCnho",
        "outputId": "4ccc3fea-6cb3-4bc7-809d-a7d8bfc5bddd"
      },
      "execution_count": 25,
      "outputs": [
        {
          "output_type": "stream",
          "name": "stdout",
          "text": [
            "Requirement already satisfied: lightgbm in /usr/local/lib/python3.7/dist-packages (2.2.3)\n",
            "Requirement already satisfied: numpy in /usr/local/lib/python3.7/dist-packages (from lightgbm) (1.21.5)\n",
            "Requirement already satisfied: scikit-learn in /usr/local/lib/python3.7/dist-packages (from lightgbm) (1.0.2)\n",
            "Requirement already satisfied: scipy in /usr/local/lib/python3.7/dist-packages (from lightgbm) (1.4.1)\n",
            "Requirement already satisfied: joblib>=0.11 in /usr/local/lib/python3.7/dist-packages (from scikit-learn->lightgbm) (1.1.0)\n",
            "Requirement already satisfied: threadpoolctl>=2.0.0 in /usr/local/lib/python3.7/dist-packages (from scikit-learn->lightgbm) (3.1.0)\n",
            "Requirement already satisfied: catboost in /usr/local/lib/python3.7/dist-packages (1.0.4)\n",
            "Requirement already satisfied: scipy in /usr/local/lib/python3.7/dist-packages (from catboost) (1.4.1)\n",
            "Requirement already satisfied: numpy>=1.16.0 in /usr/local/lib/python3.7/dist-packages (from catboost) (1.21.5)\n",
            "Requirement already satisfied: plotly in /usr/local/lib/python3.7/dist-packages (from catboost) (5.5.0)\n",
            "Requirement already satisfied: matplotlib in /usr/local/lib/python3.7/dist-packages (from catboost) (3.2.2)\n",
            "Requirement already satisfied: graphviz in /usr/local/lib/python3.7/dist-packages (from catboost) (0.10.1)\n",
            "Requirement already satisfied: pandas>=0.24.0 in /usr/local/lib/python3.7/dist-packages (from catboost) (1.3.5)\n",
            "Requirement already satisfied: six in /usr/local/lib/python3.7/dist-packages (from catboost) (1.15.0)\n",
            "Requirement already satisfied: pytz>=2017.3 in /usr/local/lib/python3.7/dist-packages (from pandas>=0.24.0->catboost) (2018.9)\n",
            "Requirement already satisfied: python-dateutil>=2.7.3 in /usr/local/lib/python3.7/dist-packages (from pandas>=0.24.0->catboost) (2.8.2)\n",
            "Requirement already satisfied: cycler>=0.10 in /usr/local/lib/python3.7/dist-packages (from matplotlib->catboost) (0.11.0)\n",
            "Requirement already satisfied: pyparsing!=2.0.4,!=2.1.2,!=2.1.6,>=2.0.1 in /usr/local/lib/python3.7/dist-packages (from matplotlib->catboost) (3.0.7)\n",
            "Requirement already satisfied: kiwisolver>=1.0.1 in /usr/local/lib/python3.7/dist-packages (from matplotlib->catboost) (1.3.2)\n",
            "Requirement already satisfied: tenacity>=6.2.0 in /usr/local/lib/python3.7/dist-packages (from plotly->catboost) (8.0.1)\n",
            "Requirement already satisfied: xgboost in /usr/local/lib/python3.7/dist-packages (0.90)\n",
            "Requirement already satisfied: numpy in /usr/local/lib/python3.7/dist-packages (from xgboost) (1.21.5)\n",
            "Requirement already satisfied: scipy in /usr/local/lib/python3.7/dist-packages (from xgboost) (1.4.1)\n"
          ]
        }
      ]
    },
    {
      "cell_type": "code",
      "source": [
        "import pandas as pd\n",
        "import numpy as np\n",
        "\n",
        "from IPython.core.display import HTML\n",
        "\n",
        "from datetime import datetime\n",
        "\n",
        "from sklearn.model_selection import train_test_split\n",
        "from sklearn.preprocessing import StandardScaler\n",
        "from sklearn.metrics import classification_report\n",
        "from sklearn.metrics import confusion_matrix\n",
        "from sklearn.preprocessing import LabelEncoder\n",
        "from sklearn.linear_model import LogisticRegression\n",
        "from sklearn.model_selection import cross_val_score\n",
        "from sklearn.tree import DecisionTreeClassifier\n",
        "from sklearn.svm import SVC\n",
        "from sklearn.model_selection import cross_validate, GridSearchCV, cross_val_score, StratifiedKFold\n",
        "from sklearn.feature_selection import f_classif\n",
        "\n",
        "from xgboost import XGBClassifier\n",
        "from lightgbm import LGBMClassifier\n",
        "from catboost import CatBoostClassifier\n",
        "\n",
        "import seaborn as sns\n",
        "import matplotlib.pyplot as plt\n",
        "%matplotlib inline"
      ],
      "metadata": {
        "id": "lsJPguqrzOjE"
      },
      "execution_count": 52,
      "outputs": []
    },
    {
      "cell_type": "markdown",
      "source": [
        "# **FUNÇÕES**"
      ],
      "metadata": {
        "id": "YlEQgbl-LC7G"
      }
    },
    {
      "cell_type": "code",
      "source": [
        "# calcula rating conforme os dados passados\n",
        "def rating(kills, deaths, rounds, k1, k2, k3, k4, k5):\n",
        "  if 0 not in [deaths, rounds]:\n",
        "    rating = (((kills/deaths)/0.679)+ (0.7*(((rounds-deaths)/deaths)/0.317))+ (((k1+(4*k2)+(9*k3)+(16*k4)+(25*k5))/rounds)/1.277))/2.7\n",
        "  else:\n",
        "    rating = 0\n",
        "\n",
        "  return rating\n",
        "\n",
        "# calcula idade de uma pessoa \n",
        "def age(date):\n",
        "  born = datetime.strptime(date[2:], '%y-%m-%d %H:%M:%S')\n",
        "  today = datetime.now()\n",
        "  return today.year - born.year - ((today.month, today.day) < (born.month, born.day))\n",
        "\n",
        "def jupyter_settings():\n",
        "  plt.style.use( 'bmh' )\n",
        "  plt.rcParams['figure.figsize'] = [10, 6]\n",
        "  plt.rcParams['font.size'] = 24\n",
        "  display( HTML( '<style>.container { width:100% !important; }</style>') )\n",
        "  pd.options.display.max_columns = None\n",
        "  pd.options.display.max_rows = None\n",
        "  pd.set_option( 'display.expand_frame_repr', False )\n",
        "  sns.set()"
      ],
      "metadata": {
        "id": "j1YOLzxALDFU"
      },
      "execution_count": 27,
      "outputs": []
    },
    {
      "cell_type": "code",
      "source": [
        "jupyter_settings()"
      ],
      "metadata": {
        "colab": {
          "base_uri": "https://localhost:8080/",
          "height": 17
        },
        "id": "pjOc_u0mL9Mj",
        "outputId": "146772aa-fa08-4cb4-c5de-4d1aa302bcda"
      },
      "execution_count": 28,
      "outputs": [
        {
          "output_type": "display_data",
          "data": {
            "text/html": [
              "<style>.container { width:100% !important; }</style>"
            ],
            "text/plain": [
              "<IPython.core.display.HTML object>"
            ]
          },
          "metadata": {}
        }
      ]
    },
    {
      "cell_type": "markdown",
      "source": [
        "# **Lendo o arquivo tb_lobby_stats_player.csv e guardando como um dataframe chamado df**"
      ],
      "metadata": {
        "id": "233x1bDdz3_Y"
      }
    },
    {
      "cell_type": "code",
      "source": [
        "df_lobby = pd.read_csv('tb_lobby_stats_player.csv')\n",
        "df_player_id = df_lobby.groupby(by=['idPlayer']).max()\n",
        "df_player_level = df_lobby.groupby(by=['vlLevel']).mean()\n",
        "\n",
        "df_players = pd.read_csv('tb_players.csv')\n",
        "\n",
        "df_players_stats = pd.concat([df_players, df_player_id], axis=1)\n",
        "\n",
        "#allPlayersStats = df.merge(dfPlayers, left_on='idPlayer', right_on='idPlayer')\n",
        "#allPlayersStats.head()"
      ],
      "metadata": {
        "id": "daZYgV1S0J_b"
      },
      "execution_count": 29,
      "outputs": []
    },
    {
      "cell_type": "markdown",
      "source": [
        "# **Removo do data frame todas as linhas que não possuem a data de nascimento de um Player e também aqueles que não jogaram nenhuma partida**"
      ],
      "metadata": {
        "id": "d_wF_2fKZqqB"
      }
    },
    {
      "cell_type": "code",
      "source": [
        "df_players_stats.dropna(subset = [\"dtBirth\", \"idLobbyGame\"], inplace=True)\n",
        "df_players_stats.head()"
      ],
      "metadata": {
        "id": "siOBURPfXmoZ",
        "colab": {
          "base_uri": "https://localhost:8080/",
          "height": 444
        },
        "outputId": "ae6b1a6c-27af-46aa-ae72-091a674451d2"
      },
      "execution_count": 30,
      "outputs": [
        {
          "output_type": "execute_result",
          "data": {
            "text/html": [
              "\n",
              "  <div id=\"df-3d3e4fd0-c6fe-4619-8f63-f7f1b06745ef\">\n",
              "    <div class=\"colab-df-container\">\n",
              "      <div>\n",
              "<style scoped>\n",
              "    .dataframe tbody tr th:only-of-type {\n",
              "        vertical-align: middle;\n",
              "    }\n",
              "\n",
              "    .dataframe tbody tr th {\n",
              "        vertical-align: top;\n",
              "    }\n",
              "\n",
              "    .dataframe thead th {\n",
              "        text-align: right;\n",
              "    }\n",
              "</style>\n",
              "<table border=\"1\" class=\"dataframe\">\n",
              "  <thead>\n",
              "    <tr style=\"text-align: right;\">\n",
              "      <th></th>\n",
              "      <th>idPlayer</th>\n",
              "      <th>flFacebook</th>\n",
              "      <th>flTwitter</th>\n",
              "      <th>flTwitch</th>\n",
              "      <th>descCountry</th>\n",
              "      <th>dtBirth</th>\n",
              "      <th>dtRegistration</th>\n",
              "      <th>idLobbyGame</th>\n",
              "      <th>idRoom</th>\n",
              "      <th>qtKill</th>\n",
              "      <th>qtAssist</th>\n",
              "      <th>qtDeath</th>\n",
              "      <th>qtHs</th>\n",
              "      <th>qtBombeDefuse</th>\n",
              "      <th>qtBombePlant</th>\n",
              "      <th>qtTk</th>\n",
              "      <th>qtTkAssist</th>\n",
              "      <th>qt1Kill</th>\n",
              "      <th>qt2Kill</th>\n",
              "      <th>qt3Kill</th>\n",
              "      <th>qt4Kill</th>\n",
              "      <th>qt5Kill</th>\n",
              "      <th>qtPlusKill</th>\n",
              "      <th>qtFirstKill</th>\n",
              "      <th>vlDamage</th>\n",
              "      <th>qtHits</th>\n",
              "      <th>qtShots</th>\n",
              "      <th>qtLastAlive</th>\n",
              "      <th>qtClutchWon</th>\n",
              "      <th>qtRoundsPlayed</th>\n",
              "      <th>descMapName</th>\n",
              "      <th>vlLevel</th>\n",
              "      <th>qtSurvived</th>\n",
              "      <th>qtTrade</th>\n",
              "      <th>qtFlashAssist</th>\n",
              "      <th>qtHitHeadshot</th>\n",
              "      <th>qtHitChest</th>\n",
              "      <th>qtHitStomach</th>\n",
              "      <th>qtHitLeftAtm</th>\n",
              "      <th>qtHitRightArm</th>\n",
              "      <th>qtHitLeftLeg</th>\n",
              "      <th>qtHitRightLeg</th>\n",
              "      <th>flWinner</th>\n",
              "      <th>dtCreatedAt</th>\n",
              "    </tr>\n",
              "  </thead>\n",
              "  <tbody>\n",
              "    <tr>\n",
              "      <th>5</th>\n",
              "      <td>6.0</td>\n",
              "      <td>0.0</td>\n",
              "      <td>0.0</td>\n",
              "      <td>0.0</td>\n",
              "      <td>br</td>\n",
              "      <td>2002-03-23 00:00:00</td>\n",
              "      <td>2019-01-09 19:24:27</td>\n",
              "      <td>119.0</td>\n",
              "      <td>119.0</td>\n",
              "      <td>25.0</td>\n",
              "      <td>9.0</td>\n",
              "      <td>19.0</td>\n",
              "      <td>10.0</td>\n",
              "      <td>2.0</td>\n",
              "      <td>3.0</td>\n",
              "      <td>1.0</td>\n",
              "      <td>0.0</td>\n",
              "      <td>8.0</td>\n",
              "      <td>6.0</td>\n",
              "      <td>2.0</td>\n",
              "      <td>0.0</td>\n",
              "      <td>0.0</td>\n",
              "      <td>0.0</td>\n",
              "      <td>3.0</td>\n",
              "      <td>3100.0</td>\n",
              "      <td>83.0</td>\n",
              "      <td>379.0</td>\n",
              "      <td>1.0</td>\n",
              "      <td>1.0</td>\n",
              "      <td>28.0</td>\n",
              "      <td>de_vertigo</td>\n",
              "      <td>2.0</td>\n",
              "      <td>14.0</td>\n",
              "      <td>4.0</td>\n",
              "      <td>0.0</td>\n",
              "      <td>15.0</td>\n",
              "      <td>37.0</td>\n",
              "      <td>17.0</td>\n",
              "      <td>4.0</td>\n",
              "      <td>6.0</td>\n",
              "      <td>7.0</td>\n",
              "      <td>5.0</td>\n",
              "      <td>1.0</td>\n",
              "      <td>2022-01-22 02:33:32</td>\n",
              "    </tr>\n",
              "    <tr>\n",
              "      <th>8</th>\n",
              "      <td>9.0</td>\n",
              "      <td>0.0</td>\n",
              "      <td>0.0</td>\n",
              "      <td>0.0</td>\n",
              "      <td>ar</td>\n",
              "      <td>2000-05-03 00:00:00</td>\n",
              "      <td>2016-05-22 15:12:48</td>\n",
              "      <td>162.0</td>\n",
              "      <td>162.0</td>\n",
              "      <td>6.0</td>\n",
              "      <td>5.0</td>\n",
              "      <td>25.0</td>\n",
              "      <td>1.0</td>\n",
              "      <td>0.0</td>\n",
              "      <td>1.0</td>\n",
              "      <td>0.0</td>\n",
              "      <td>0.0</td>\n",
              "      <td>2.0</td>\n",
              "      <td>2.0</td>\n",
              "      <td>0.0</td>\n",
              "      <td>0.0</td>\n",
              "      <td>0.0</td>\n",
              "      <td>0.0</td>\n",
              "      <td>1.0</td>\n",
              "      <td>1362.0</td>\n",
              "      <td>43.0</td>\n",
              "      <td>292.0</td>\n",
              "      <td>0.0</td>\n",
              "      <td>0.0</td>\n",
              "      <td>30.0</td>\n",
              "      <td>de_vertigo</td>\n",
              "      <td>0.0</td>\n",
              "      <td>5.0</td>\n",
              "      <td>6.0</td>\n",
              "      <td>1.0</td>\n",
              "      <td>2.0</td>\n",
              "      <td>15.0</td>\n",
              "      <td>14.0</td>\n",
              "      <td>3.0</td>\n",
              "      <td>3.0</td>\n",
              "      <td>3.0</td>\n",
              "      <td>3.0</td>\n",
              "      <td>0.0</td>\n",
              "      <td>2022-01-29 19:05:22</td>\n",
              "    </tr>\n",
              "    <tr>\n",
              "      <th>9</th>\n",
              "      <td>10.0</td>\n",
              "      <td>0.0</td>\n",
              "      <td>0.0</td>\n",
              "      <td>0.0</td>\n",
              "      <td>br</td>\n",
              "      <td>2005-04-15 00:00:00</td>\n",
              "      <td>2018-02-28 11:29:11</td>\n",
              "      <td>227.0</td>\n",
              "      <td>227.0</td>\n",
              "      <td>40.0</td>\n",
              "      <td>9.0</td>\n",
              "      <td>26.0</td>\n",
              "      <td>19.0</td>\n",
              "      <td>2.0</td>\n",
              "      <td>8.0</td>\n",
              "      <td>1.0</td>\n",
              "      <td>3.0</td>\n",
              "      <td>17.0</td>\n",
              "      <td>8.0</td>\n",
              "      <td>6.0</td>\n",
              "      <td>2.0</td>\n",
              "      <td>1.0</td>\n",
              "      <td>0.0</td>\n",
              "      <td>8.0</td>\n",
              "      <td>4346.0</td>\n",
              "      <td>111.0</td>\n",
              "      <td>679.0</td>\n",
              "      <td>4.0</td>\n",
              "      <td>3.0</td>\n",
              "      <td>42.0</td>\n",
              "      <td>de_vertigo</td>\n",
              "      <td>13.0</td>\n",
              "      <td>16.0</td>\n",
              "      <td>6.0</td>\n",
              "      <td>3.0</td>\n",
              "      <td>21.0</td>\n",
              "      <td>55.0</td>\n",
              "      <td>25.0</td>\n",
              "      <td>6.0</td>\n",
              "      <td>11.0</td>\n",
              "      <td>8.0</td>\n",
              "      <td>7.0</td>\n",
              "      <td>1.0</td>\n",
              "      <td>2022-02-01 03:38:06</td>\n",
              "    </tr>\n",
              "    <tr>\n",
              "      <th>10</th>\n",
              "      <td>11.0</td>\n",
              "      <td>0.0</td>\n",
              "      <td>0.0</td>\n",
              "      <td>0.0</td>\n",
              "      <td>br</td>\n",
              "      <td>1994-10-28 00:00:00</td>\n",
              "      <td>2016-09-01 20:21:33</td>\n",
              "      <td>842.0</td>\n",
              "      <td>842.0</td>\n",
              "      <td>48.0</td>\n",
              "      <td>12.0</td>\n",
              "      <td>41.0</td>\n",
              "      <td>29.0</td>\n",
              "      <td>2.0</td>\n",
              "      <td>6.0</td>\n",
              "      <td>2.0</td>\n",
              "      <td>4.0</td>\n",
              "      <td>17.0</td>\n",
              "      <td>12.0</td>\n",
              "      <td>6.0</td>\n",
              "      <td>4.0</td>\n",
              "      <td>2.0</td>\n",
              "      <td>0.0</td>\n",
              "      <td>14.0</td>\n",
              "      <td>5820.0</td>\n",
              "      <td>165.0</td>\n",
              "      <td>942.0</td>\n",
              "      <td>17.0</td>\n",
              "      <td>3.0</td>\n",
              "      <td>52.0</td>\n",
              "      <td>de_vertigo</td>\n",
              "      <td>21.0</td>\n",
              "      <td>24.0</td>\n",
              "      <td>12.0</td>\n",
              "      <td>7.0</td>\n",
              "      <td>33.0</td>\n",
              "      <td>68.0</td>\n",
              "      <td>27.0</td>\n",
              "      <td>7.0</td>\n",
              "      <td>17.0</td>\n",
              "      <td>7.0</td>\n",
              "      <td>9.0</td>\n",
              "      <td>1.0</td>\n",
              "      <td>2022-02-11 01:34:26</td>\n",
              "    </tr>\n",
              "    <tr>\n",
              "      <th>12</th>\n",
              "      <td>13.0</td>\n",
              "      <td>0.0</td>\n",
              "      <td>0.0</td>\n",
              "      <td>0.0</td>\n",
              "      <td>br</td>\n",
              "      <td>2000-05-01 00:00:00</td>\n",
              "      <td>2016-09-05 11:42:21</td>\n",
              "      <td>1084.0</td>\n",
              "      <td>1084.0</td>\n",
              "      <td>39.0</td>\n",
              "      <td>8.0</td>\n",
              "      <td>26.0</td>\n",
              "      <td>18.0</td>\n",
              "      <td>1.0</td>\n",
              "      <td>4.0</td>\n",
              "      <td>0.0</td>\n",
              "      <td>2.0</td>\n",
              "      <td>11.0</td>\n",
              "      <td>6.0</td>\n",
              "      <td>3.0</td>\n",
              "      <td>1.0</td>\n",
              "      <td>0.0</td>\n",
              "      <td>0.0</td>\n",
              "      <td>6.0</td>\n",
              "      <td>4302.0</td>\n",
              "      <td>115.0</td>\n",
              "      <td>541.0</td>\n",
              "      <td>3.0</td>\n",
              "      <td>2.0</td>\n",
              "      <td>30.0</td>\n",
              "      <td>de_vertigo</td>\n",
              "      <td>9.0</td>\n",
              "      <td>13.0</td>\n",
              "      <td>6.0</td>\n",
              "      <td>3.0</td>\n",
              "      <td>24.0</td>\n",
              "      <td>51.0</td>\n",
              "      <td>31.0</td>\n",
              "      <td>6.0</td>\n",
              "      <td>11.0</td>\n",
              "      <td>8.0</td>\n",
              "      <td>9.0</td>\n",
              "      <td>1.0</td>\n",
              "      <td>2022-01-28 23:26:04</td>\n",
              "    </tr>\n",
              "  </tbody>\n",
              "</table>\n",
              "</div>\n",
              "      <button class=\"colab-df-convert\" onclick=\"convertToInteractive('df-3d3e4fd0-c6fe-4619-8f63-f7f1b06745ef')\"\n",
              "              title=\"Convert this dataframe to an interactive table.\"\n",
              "              style=\"display:none;\">\n",
              "        \n",
              "  <svg xmlns=\"http://www.w3.org/2000/svg\" height=\"24px\"viewBox=\"0 0 24 24\"\n",
              "       width=\"24px\">\n",
              "    <path d=\"M0 0h24v24H0V0z\" fill=\"none\"/>\n",
              "    <path d=\"M18.56 5.44l.94 2.06.94-2.06 2.06-.94-2.06-.94-.94-2.06-.94 2.06-2.06.94zm-11 1L8.5 8.5l.94-2.06 2.06-.94-2.06-.94L8.5 2.5l-.94 2.06-2.06.94zm10 10l.94 2.06.94-2.06 2.06-.94-2.06-.94-.94-2.06-.94 2.06-2.06.94z\"/><path d=\"M17.41 7.96l-1.37-1.37c-.4-.4-.92-.59-1.43-.59-.52 0-1.04.2-1.43.59L10.3 9.45l-7.72 7.72c-.78.78-.78 2.05 0 2.83L4 21.41c.39.39.9.59 1.41.59.51 0 1.02-.2 1.41-.59l7.78-7.78 2.81-2.81c.8-.78.8-2.07 0-2.86zM5.41 20L4 18.59l7.72-7.72 1.47 1.35L5.41 20z\"/>\n",
              "  </svg>\n",
              "      </button>\n",
              "      \n",
              "  <style>\n",
              "    .colab-df-container {\n",
              "      display:flex;\n",
              "      flex-wrap:wrap;\n",
              "      gap: 12px;\n",
              "    }\n",
              "\n",
              "    .colab-df-convert {\n",
              "      background-color: #E8F0FE;\n",
              "      border: none;\n",
              "      border-radius: 50%;\n",
              "      cursor: pointer;\n",
              "      display: none;\n",
              "      fill: #1967D2;\n",
              "      height: 32px;\n",
              "      padding: 0 0 0 0;\n",
              "      width: 32px;\n",
              "    }\n",
              "\n",
              "    .colab-df-convert:hover {\n",
              "      background-color: #E2EBFA;\n",
              "      box-shadow: 0px 1px 2px rgba(60, 64, 67, 0.3), 0px 1px 3px 1px rgba(60, 64, 67, 0.15);\n",
              "      fill: #174EA6;\n",
              "    }\n",
              "\n",
              "    [theme=dark] .colab-df-convert {\n",
              "      background-color: #3B4455;\n",
              "      fill: #D2E3FC;\n",
              "    }\n",
              "\n",
              "    [theme=dark] .colab-df-convert:hover {\n",
              "      background-color: #434B5C;\n",
              "      box-shadow: 0px 1px 3px 1px rgba(0, 0, 0, 0.15);\n",
              "      filter: drop-shadow(0px 1px 2px rgba(0, 0, 0, 0.3));\n",
              "      fill: #FFFFFF;\n",
              "    }\n",
              "  </style>\n",
              "\n",
              "      <script>\n",
              "        const buttonEl =\n",
              "          document.querySelector('#df-3d3e4fd0-c6fe-4619-8f63-f7f1b06745ef button.colab-df-convert');\n",
              "        buttonEl.style.display =\n",
              "          google.colab.kernel.accessAllowed ? 'block' : 'none';\n",
              "\n",
              "        async function convertToInteractive(key) {\n",
              "          const element = document.querySelector('#df-3d3e4fd0-c6fe-4619-8f63-f7f1b06745ef');\n",
              "          const dataTable =\n",
              "            await google.colab.kernel.invokeFunction('convertToInteractive',\n",
              "                                                     [key], {});\n",
              "          if (!dataTable) return;\n",
              "\n",
              "          const docLinkHtml = 'Like what you see? Visit the ' +\n",
              "            '<a target=\"_blank\" href=https://colab.research.google.com/notebooks/data_table.ipynb>data table notebook</a>'\n",
              "            + ' to learn more about interactive tables.';\n",
              "          element.innerHTML = '';\n",
              "          dataTable['output_type'] = 'display_data';\n",
              "          await google.colab.output.renderOutput(dataTable, element);\n",
              "          const docLink = document.createElement('div');\n",
              "          docLink.innerHTML = docLinkHtml;\n",
              "          element.appendChild(docLink);\n",
              "        }\n",
              "      </script>\n",
              "    </div>\n",
              "  </div>\n",
              "  "
            ],
            "text/plain": [
              "    idPlayer  flFacebook  flTwitter  flTwitch descCountry              dtBirth       dtRegistration  idLobbyGame  idRoom  qtKill  qtAssist  qtDeath  qtHs  qtBombeDefuse  qtBombePlant  qtTk  qtTkAssist  qt1Kill  qt2Kill  qt3Kill  qt4Kill  qt5Kill  qtPlusKill  qtFirstKill  vlDamage  qtHits  qtShots  qtLastAlive  qtClutchWon  qtRoundsPlayed descMapName  vlLevel  qtSurvived  qtTrade  qtFlashAssist  qtHitHeadshot  qtHitChest  qtHitStomach  qtHitLeftAtm  qtHitRightArm  qtHitLeftLeg  qtHitRightLeg  flWinner          dtCreatedAt\n",
              "5        6.0         0.0        0.0       0.0          br  2002-03-23 00:00:00  2019-01-09 19:24:27        119.0   119.0    25.0       9.0     19.0  10.0            2.0           3.0   1.0         0.0      8.0      6.0      2.0      0.0      0.0         0.0          3.0    3100.0    83.0    379.0          1.0          1.0            28.0  de_vertigo      2.0        14.0      4.0            0.0           15.0        37.0          17.0           4.0            6.0           7.0            5.0       1.0  2022-01-22 02:33:32\n",
              "8        9.0         0.0        0.0       0.0          ar  2000-05-03 00:00:00  2016-05-22 15:12:48        162.0   162.0     6.0       5.0     25.0   1.0            0.0           1.0   0.0         0.0      2.0      2.0      0.0      0.0      0.0         0.0          1.0    1362.0    43.0    292.0          0.0          0.0            30.0  de_vertigo      0.0         5.0      6.0            1.0            2.0        15.0          14.0           3.0            3.0           3.0            3.0       0.0  2022-01-29 19:05:22\n",
              "9       10.0         0.0        0.0       0.0          br  2005-04-15 00:00:00  2018-02-28 11:29:11        227.0   227.0    40.0       9.0     26.0  19.0            2.0           8.0   1.0         3.0     17.0      8.0      6.0      2.0      1.0         0.0          8.0    4346.0   111.0    679.0          4.0          3.0            42.0  de_vertigo     13.0        16.0      6.0            3.0           21.0        55.0          25.0           6.0           11.0           8.0            7.0       1.0  2022-02-01 03:38:06\n",
              "10      11.0         0.0        0.0       0.0          br  1994-10-28 00:00:00  2016-09-01 20:21:33        842.0   842.0    48.0      12.0     41.0  29.0            2.0           6.0   2.0         4.0     17.0     12.0      6.0      4.0      2.0         0.0         14.0    5820.0   165.0    942.0         17.0          3.0            52.0  de_vertigo     21.0        24.0     12.0            7.0           33.0        68.0          27.0           7.0           17.0           7.0            9.0       1.0  2022-02-11 01:34:26\n",
              "12      13.0         0.0        0.0       0.0          br  2000-05-01 00:00:00  2016-09-05 11:42:21       1084.0  1084.0    39.0       8.0     26.0  18.0            1.0           4.0   0.0         2.0     11.0      6.0      3.0      1.0      0.0         0.0          6.0    4302.0   115.0    541.0          3.0          2.0            30.0  de_vertigo      9.0        13.0      6.0            3.0           24.0        51.0          31.0           6.0           11.0           8.0            9.0       1.0  2022-01-28 23:26:04"
            ]
          },
          "metadata": {},
          "execution_count": 30
        }
      ]
    },
    {
      "cell_type": "markdown",
      "source": [
        "# **Criando as colunas age e rating no data frame allPlayersStats, também removendo todas as idades menores que 0**"
      ],
      "metadata": {
        "id": "YUZpmPXHG3LQ"
      }
    },
    {
      "cell_type": "code",
      "source": [
        "df_players_stats['rating'] = df_players_stats.apply(lambda x: rating(x.qtKill, x.qtDeath, x.qtRoundsPlayed, x.qt1Kill, x.qt2Kill, x.qt3Kill, x.qt4Kill, x.qt5Kill), axis=1)\n",
        "df_players_stats['age'] = df_players_stats.apply(lambda x: age(x.dtBirth), axis=1)\n",
        "allPlayersStats = df_players_stats[df_players_stats['age'] >= 0]"
      ],
      "metadata": {
        "id": "Z-TEVUSmG3fv"
      },
      "execution_count": 31,
      "outputs": []
    },
    {
      "cell_type": "markdown",
      "source": [
        "# **Machine Learning**"
      ],
      "metadata": {
        "id": "17Dw1rvV8v8c"
      }
    },
    {
      "cell_type": "markdown",
      "source": [
        "## Criando e tratando o data frame df_lobby2 \n",
        "utilizaremos ele para tentar prever se aquele player ganhou ou perdeu a partida"
      ],
      "metadata": {
        "id": "jzWVT3pV8xSI"
      }
    },
    {
      "cell_type": "code",
      "source": [
        "df_lobby2 = df_lobby.copy()\n",
        "df_lobby2.drop(['dtCreatedAt', 'idLobbyGame', 'idPlayer', 'idRoom'], inplace=True, axis=1)"
      ],
      "metadata": {
        "id": "1OZBjNb4-xtF"
      },
      "execution_count": 32,
      "outputs": []
    },
    {
      "cell_type": "code",
      "source": [
        "label_encoders = dict()\n",
        "label_encoders['descMapName'] = LabelEncoder()\n",
        "label_encoders['descMapName'].fit(df_lobby2['descMapName'])\n",
        "df_lobby2['descMapName'] = label_encoders['descMapName'].transform(df_lobby2['descMapName'])"
      ],
      "metadata": {
        "id": "6L7ZwogmA1gL"
      },
      "execution_count": 33,
      "outputs": []
    },
    {
      "cell_type": "code",
      "source": [
        "# df_lobby2['MapNameLabel'] = label_encoders['descMapName'].inverse_transform(df_lobby2['descMapName'])\n",
        "df_lobby2.fillna(df_lobby2.mean(), inplace=True)"
      ],
      "metadata": {
        "id": "2PzJXXe-CcHZ"
      },
      "execution_count": 34,
      "outputs": []
    },
    {
      "cell_type": "code",
      "source": [
        "df_lobby2.info()"
      ],
      "metadata": {
        "colab": {
          "base_uri": "https://localhost:8080/"
        },
        "id": "F08vvlT29Ob4",
        "outputId": "74230cc8-8c9b-4d41-c970-dbbe81684e6c"
      },
      "execution_count": 35,
      "outputs": [
        {
          "output_type": "stream",
          "name": "stdout",
          "text": [
            "<class 'pandas.core.frame.DataFrame'>\n",
            "RangeIndex: 184152 entries, 0 to 184151\n",
            "Data columns (total 34 columns):\n",
            " #   Column          Non-Null Count   Dtype  \n",
            "---  ------          --------------   -----  \n",
            " 0   qtKill          184152 non-null  int64  \n",
            " 1   qtAssist        184152 non-null  int64  \n",
            " 2   qtDeath         184152 non-null  int64  \n",
            " 3   qtHs            184152 non-null  int64  \n",
            " 4   qtBombeDefuse   184152 non-null  int64  \n",
            " 5   qtBombePlant    184152 non-null  int64  \n",
            " 6   qtTk            184152 non-null  float64\n",
            " 7   qtTkAssist      184152 non-null  float64\n",
            " 8   qt1Kill         184152 non-null  int64  \n",
            " 9   qt2Kill         184152 non-null  int64  \n",
            " 10  qt3Kill         184152 non-null  int64  \n",
            " 11  qt4Kill         184152 non-null  int64  \n",
            " 12  qt5Kill         184152 non-null  int64  \n",
            " 13  qtPlusKill      184152 non-null  int64  \n",
            " 14  qtFirstKill     184152 non-null  int64  \n",
            " 15  vlDamage        184152 non-null  int64  \n",
            " 16  qtHits          184152 non-null  float64\n",
            " 17  qtShots         184152 non-null  int64  \n",
            " 18  qtLastAlive     184152 non-null  float64\n",
            " 19  qtClutchWon     184152 non-null  int64  \n",
            " 20  qtRoundsPlayed  184152 non-null  int64  \n",
            " 21  descMapName     184152 non-null  int64  \n",
            " 22  vlLevel         184152 non-null  int64  \n",
            " 23  qtSurvived      184152 non-null  float64\n",
            " 24  qtTrade         184152 non-null  float64\n",
            " 25  qtFlashAssist   184152 non-null  float64\n",
            " 26  qtHitHeadshot   184152 non-null  float64\n",
            " 27  qtHitChest      184152 non-null  float64\n",
            " 28  qtHitStomach    184152 non-null  float64\n",
            " 29  qtHitLeftAtm    184152 non-null  float64\n",
            " 30  qtHitRightArm   184152 non-null  float64\n",
            " 31  qtHitLeftLeg    184152 non-null  float64\n",
            " 32  qtHitRightLeg   184152 non-null  float64\n",
            " 33  flWinner        184152 non-null  int64  \n",
            "dtypes: float64(14), int64(20)\n",
            "memory usage: 47.8 MB\n"
          ]
        }
      ]
    },
    {
      "cell_type": "code",
      "source": [
        "df_lobby2.describe()"
      ],
      "metadata": {
        "colab": {
          "base_uri": "https://localhost:8080/",
          "height": 364
        },
        "id": "_jvSBfOx9RAN",
        "outputId": "a49ab4c6-b466-4dc7-d8d0-d1fb3e0aad66"
      },
      "execution_count": 36,
      "outputs": [
        {
          "output_type": "execute_result",
          "data": {
            "text/html": [
              "\n",
              "  <div id=\"df-01e12e5f-e178-4954-8d64-718990b23a54\">\n",
              "    <div class=\"colab-df-container\">\n",
              "      <div>\n",
              "<style scoped>\n",
              "    .dataframe tbody tr th:only-of-type {\n",
              "        vertical-align: middle;\n",
              "    }\n",
              "\n",
              "    .dataframe tbody tr th {\n",
              "        vertical-align: top;\n",
              "    }\n",
              "\n",
              "    .dataframe thead th {\n",
              "        text-align: right;\n",
              "    }\n",
              "</style>\n",
              "<table border=\"1\" class=\"dataframe\">\n",
              "  <thead>\n",
              "    <tr style=\"text-align: right;\">\n",
              "      <th></th>\n",
              "      <th>qtKill</th>\n",
              "      <th>qtAssist</th>\n",
              "      <th>qtDeath</th>\n",
              "      <th>qtHs</th>\n",
              "      <th>qtBombeDefuse</th>\n",
              "      <th>qtBombePlant</th>\n",
              "      <th>qtTk</th>\n",
              "      <th>qtTkAssist</th>\n",
              "      <th>qt1Kill</th>\n",
              "      <th>qt2Kill</th>\n",
              "      <th>qt3Kill</th>\n",
              "      <th>qt4Kill</th>\n",
              "      <th>qt5Kill</th>\n",
              "      <th>qtPlusKill</th>\n",
              "      <th>qtFirstKill</th>\n",
              "      <th>vlDamage</th>\n",
              "      <th>qtHits</th>\n",
              "      <th>qtShots</th>\n",
              "      <th>qtLastAlive</th>\n",
              "      <th>qtClutchWon</th>\n",
              "      <th>qtRoundsPlayed</th>\n",
              "      <th>descMapName</th>\n",
              "      <th>vlLevel</th>\n",
              "      <th>qtSurvived</th>\n",
              "      <th>qtTrade</th>\n",
              "      <th>qtFlashAssist</th>\n",
              "      <th>qtHitHeadshot</th>\n",
              "      <th>qtHitChest</th>\n",
              "      <th>qtHitStomach</th>\n",
              "      <th>qtHitLeftAtm</th>\n",
              "      <th>qtHitRightArm</th>\n",
              "      <th>qtHitLeftLeg</th>\n",
              "      <th>qtHitRightLeg</th>\n",
              "      <th>flWinner</th>\n",
              "    </tr>\n",
              "  </thead>\n",
              "  <tbody>\n",
              "    <tr>\n",
              "      <th>count</th>\n",
              "      <td>184152.000000</td>\n",
              "      <td>184152.000000</td>\n",
              "      <td>184152.000000</td>\n",
              "      <td>184152.000000</td>\n",
              "      <td>184152.000000</td>\n",
              "      <td>184152.000000</td>\n",
              "      <td>184152.000000</td>\n",
              "      <td>184152.000000</td>\n",
              "      <td>184152.000000</td>\n",
              "      <td>184152.000000</td>\n",
              "      <td>184152.000000</td>\n",
              "      <td>184152.000000</td>\n",
              "      <td>184152.000000</td>\n",
              "      <td>184152.0</td>\n",
              "      <td>184152.000000</td>\n",
              "      <td>184152.000000</td>\n",
              "      <td>184152.000000</td>\n",
              "      <td>184152.000000</td>\n",
              "      <td>184152.000000</td>\n",
              "      <td>184152.000000</td>\n",
              "      <td>184152.000000</td>\n",
              "      <td>184152.000000</td>\n",
              "      <td>184152.000000</td>\n",
              "      <td>184152.000000</td>\n",
              "      <td>184152.000000</td>\n",
              "      <td>184152.000000</td>\n",
              "      <td>184152.000000</td>\n",
              "      <td>184152.000000</td>\n",
              "      <td>184152.000000</td>\n",
              "      <td>184152.000000</td>\n",
              "      <td>184152.000000</td>\n",
              "      <td>184152.000000</td>\n",
              "      <td>184152.000000</td>\n",
              "      <td>184152.000000</td>\n",
              "    </tr>\n",
              "    <tr>\n",
              "      <th>mean</th>\n",
              "      <td>19.113531</td>\n",
              "      <td>3.756033</td>\n",
              "      <td>18.792459</td>\n",
              "      <td>7.640123</td>\n",
              "      <td>0.316054</td>\n",
              "      <td>1.321349</td>\n",
              "      <td>0.022463</td>\n",
              "      <td>0.249299</td>\n",
              "      <td>8.009943</td>\n",
              "      <td>3.430107</td>\n",
              "      <td>1.066874</td>\n",
              "      <td>0.221105</td>\n",
              "      <td>0.024958</td>\n",
              "      <td>0.0</td>\n",
              "      <td>2.698005</td>\n",
              "      <td>2500.991268</td>\n",
              "      <td>64.277283</td>\n",
              "      <td>454.456085</td>\n",
              "      <td>0.713985</td>\n",
              "      <td>0.469308</td>\n",
              "      <td>26.461054</td>\n",
              "      <td>3.233628</td>\n",
              "      <td>13.668350</td>\n",
              "      <td>6.954079</td>\n",
              "      <td>3.095254</td>\n",
              "      <td>0.570012</td>\n",
              "      <td>9.642889</td>\n",
              "      <td>29.305194</td>\n",
              "      <td>13.525509</td>\n",
              "      <td>1.902511</td>\n",
              "      <td>5.106091</td>\n",
              "      <td>2.265641</td>\n",
              "      <td>2.496509</td>\n",
              "      <td>0.493766</td>\n",
              "    </tr>\n",
              "    <tr>\n",
              "      <th>std</th>\n",
              "      <td>7.481041</td>\n",
              "      <td>2.205265</td>\n",
              "      <td>5.211614</td>\n",
              "      <td>4.042324</td>\n",
              "      <td>0.575803</td>\n",
              "      <td>1.336699</td>\n",
              "      <td>0.156515</td>\n",
              "      <td>0.550384</td>\n",
              "      <td>3.043061</td>\n",
              "      <td>2.050622</td>\n",
              "      <td>1.129075</td>\n",
              "      <td>0.492353</td>\n",
              "      <td>0.159542</td>\n",
              "      <td>0.0</td>\n",
              "      <td>1.949036</td>\n",
              "      <td>878.257039</td>\n",
              "      <td>22.915043</td>\n",
              "      <td>171.299525</td>\n",
              "      <td>1.292716</td>\n",
              "      <td>0.714377</td>\n",
              "      <td>5.873889</td>\n",
              "      <td>1.842648</td>\n",
              "      <td>4.684848</td>\n",
              "      <td>3.232244</td>\n",
              "      <td>1.881415</td>\n",
              "      <td>0.905037</td>\n",
              "      <td>4.760584</td>\n",
              "      <td>11.635656</td>\n",
              "      <td>7.088459</td>\n",
              "      <td>1.647163</td>\n",
              "      <td>2.918581</td>\n",
              "      <td>2.058342</td>\n",
              "      <td>2.158414</td>\n",
              "      <td>0.499962</td>\n",
              "    </tr>\n",
              "    <tr>\n",
              "      <th>min</th>\n",
              "      <td>0.000000</td>\n",
              "      <td>0.000000</td>\n",
              "      <td>0.000000</td>\n",
              "      <td>0.000000</td>\n",
              "      <td>0.000000</td>\n",
              "      <td>0.000000</td>\n",
              "      <td>0.000000</td>\n",
              "      <td>0.000000</td>\n",
              "      <td>0.000000</td>\n",
              "      <td>0.000000</td>\n",
              "      <td>0.000000</td>\n",
              "      <td>0.000000</td>\n",
              "      <td>0.000000</td>\n",
              "      <td>0.0</td>\n",
              "      <td>0.000000</td>\n",
              "      <td>0.000000</td>\n",
              "      <td>0.000000</td>\n",
              "      <td>0.000000</td>\n",
              "      <td>0.000000</td>\n",
              "      <td>0.000000</td>\n",
              "      <td>1.000000</td>\n",
              "      <td>0.000000</td>\n",
              "      <td>0.000000</td>\n",
              "      <td>0.000000</td>\n",
              "      <td>0.000000</td>\n",
              "      <td>0.000000</td>\n",
              "      <td>0.000000</td>\n",
              "      <td>0.000000</td>\n",
              "      <td>0.000000</td>\n",
              "      <td>0.000000</td>\n",
              "      <td>0.000000</td>\n",
              "      <td>0.000000</td>\n",
              "      <td>0.000000</td>\n",
              "      <td>0.000000</td>\n",
              "    </tr>\n",
              "    <tr>\n",
              "      <th>25%</th>\n",
              "      <td>14.000000</td>\n",
              "      <td>2.000000</td>\n",
              "      <td>16.000000</td>\n",
              "      <td>5.000000</td>\n",
              "      <td>0.000000</td>\n",
              "      <td>0.000000</td>\n",
              "      <td>0.000000</td>\n",
              "      <td>0.000000</td>\n",
              "      <td>6.000000</td>\n",
              "      <td>2.000000</td>\n",
              "      <td>0.000000</td>\n",
              "      <td>0.000000</td>\n",
              "      <td>0.000000</td>\n",
              "      <td>0.0</td>\n",
              "      <td>1.000000</td>\n",
              "      <td>1926.000000</td>\n",
              "      <td>49.000000</td>\n",
              "      <td>341.000000</td>\n",
              "      <td>0.000000</td>\n",
              "      <td>0.000000</td>\n",
              "      <td>23.000000</td>\n",
              "      <td>2.000000</td>\n",
              "      <td>10.000000</td>\n",
              "      <td>5.000000</td>\n",
              "      <td>2.000000</td>\n",
              "      <td>0.000000</td>\n",
              "      <td>6.000000</td>\n",
              "      <td>21.000000</td>\n",
              "      <td>8.000000</td>\n",
              "      <td>1.000000</td>\n",
              "      <td>3.000000</td>\n",
              "      <td>1.000000</td>\n",
              "      <td>1.000000</td>\n",
              "      <td>0.000000</td>\n",
              "    </tr>\n",
              "    <tr>\n",
              "      <th>50%</th>\n",
              "      <td>19.000000</td>\n",
              "      <td>4.000000</td>\n",
              "      <td>19.000000</td>\n",
              "      <td>7.000000</td>\n",
              "      <td>0.000000</td>\n",
              "      <td>1.000000</td>\n",
              "      <td>0.000000</td>\n",
              "      <td>0.000000</td>\n",
              "      <td>8.000000</td>\n",
              "      <td>3.000000</td>\n",
              "      <td>1.000000</td>\n",
              "      <td>0.000000</td>\n",
              "      <td>0.000000</td>\n",
              "      <td>0.0</td>\n",
              "      <td>2.000000</td>\n",
              "      <td>2453.000000</td>\n",
              "      <td>63.000000</td>\n",
              "      <td>435.000000</td>\n",
              "      <td>0.000000</td>\n",
              "      <td>0.000000</td>\n",
              "      <td>27.000000</td>\n",
              "      <td>3.000000</td>\n",
              "      <td>14.000000</td>\n",
              "      <td>7.000000</td>\n",
              "      <td>3.000000</td>\n",
              "      <td>0.000000</td>\n",
              "      <td>9.000000</td>\n",
              "      <td>28.000000</td>\n",
              "      <td>13.000000</td>\n",
              "      <td>2.000000</td>\n",
              "      <td>5.000000</td>\n",
              "      <td>2.000000</td>\n",
              "      <td>2.000000</td>\n",
              "      <td>0.000000</td>\n",
              "    </tr>\n",
              "    <tr>\n",
              "      <th>75%</th>\n",
              "      <td>24.000000</td>\n",
              "      <td>5.000000</td>\n",
              "      <td>22.000000</td>\n",
              "      <td>10.000000</td>\n",
              "      <td>1.000000</td>\n",
              "      <td>2.000000</td>\n",
              "      <td>0.000000</td>\n",
              "      <td>0.000000</td>\n",
              "      <td>10.000000</td>\n",
              "      <td>5.000000</td>\n",
              "      <td>2.000000</td>\n",
              "      <td>0.000000</td>\n",
              "      <td>0.000000</td>\n",
              "      <td>0.0</td>\n",
              "      <td>4.000000</td>\n",
              "      <td>3017.000000</td>\n",
              "      <td>78.000000</td>\n",
              "      <td>546.000000</td>\n",
              "      <td>1.000000</td>\n",
              "      <td>1.000000</td>\n",
              "      <td>29.000000</td>\n",
              "      <td>4.000000</td>\n",
              "      <td>18.000000</td>\n",
              "      <td>9.000000</td>\n",
              "      <td>4.000000</td>\n",
              "      <td>1.000000</td>\n",
              "      <td>12.000000</td>\n",
              "      <td>36.000000</td>\n",
              "      <td>18.000000</td>\n",
              "      <td>3.000000</td>\n",
              "      <td>7.000000</td>\n",
              "      <td>3.000000</td>\n",
              "      <td>4.000000</td>\n",
              "      <td>1.000000</td>\n",
              "    </tr>\n",
              "    <tr>\n",
              "      <th>max</th>\n",
              "      <td>85.000000</td>\n",
              "      <td>24.000000</td>\n",
              "      <td>65.000000</td>\n",
              "      <td>41.000000</td>\n",
              "      <td>5.000000</td>\n",
              "      <td>12.000000</td>\n",
              "      <td>12.000000</td>\n",
              "      <td>9.000000</td>\n",
              "      <td>31.000000</td>\n",
              "      <td>16.000000</td>\n",
              "      <td>11.000000</td>\n",
              "      <td>6.000000</td>\n",
              "      <td>3.000000</td>\n",
              "      <td>0.0</td>\n",
              "      <td>20.000000</td>\n",
              "      <td>10794.000000</td>\n",
              "      <td>277.000000</td>\n",
              "      <td>2131.000000</td>\n",
              "      <td>29.000000</td>\n",
              "      <td>8.000000</td>\n",
              "      <td>84.000000</td>\n",
              "      <td>7.000000</td>\n",
              "      <td>21.000000</td>\n",
              "      <td>37.000000</td>\n",
              "      <td>20.000000</td>\n",
              "      <td>14.000000</td>\n",
              "      <td>49.000000</td>\n",
              "      <td>122.000000</td>\n",
              "      <td>77.000000</td>\n",
              "      <td>17.000000</td>\n",
              "      <td>30.000000</td>\n",
              "      <td>21.000000</td>\n",
              "      <td>22.000000</td>\n",
              "      <td>1.000000</td>\n",
              "    </tr>\n",
              "  </tbody>\n",
              "</table>\n",
              "</div>\n",
              "      <button class=\"colab-df-convert\" onclick=\"convertToInteractive('df-01e12e5f-e178-4954-8d64-718990b23a54')\"\n",
              "              title=\"Convert this dataframe to an interactive table.\"\n",
              "              style=\"display:none;\">\n",
              "        \n",
              "  <svg xmlns=\"http://www.w3.org/2000/svg\" height=\"24px\"viewBox=\"0 0 24 24\"\n",
              "       width=\"24px\">\n",
              "    <path d=\"M0 0h24v24H0V0z\" fill=\"none\"/>\n",
              "    <path d=\"M18.56 5.44l.94 2.06.94-2.06 2.06-.94-2.06-.94-.94-2.06-.94 2.06-2.06.94zm-11 1L8.5 8.5l.94-2.06 2.06-.94-2.06-.94L8.5 2.5l-.94 2.06-2.06.94zm10 10l.94 2.06.94-2.06 2.06-.94-2.06-.94-.94-2.06-.94 2.06-2.06.94z\"/><path d=\"M17.41 7.96l-1.37-1.37c-.4-.4-.92-.59-1.43-.59-.52 0-1.04.2-1.43.59L10.3 9.45l-7.72 7.72c-.78.78-.78 2.05 0 2.83L4 21.41c.39.39.9.59 1.41.59.51 0 1.02-.2 1.41-.59l7.78-7.78 2.81-2.81c.8-.78.8-2.07 0-2.86zM5.41 20L4 18.59l7.72-7.72 1.47 1.35L5.41 20z\"/>\n",
              "  </svg>\n",
              "      </button>\n",
              "      \n",
              "  <style>\n",
              "    .colab-df-container {\n",
              "      display:flex;\n",
              "      flex-wrap:wrap;\n",
              "      gap: 12px;\n",
              "    }\n",
              "\n",
              "    .colab-df-convert {\n",
              "      background-color: #E8F0FE;\n",
              "      border: none;\n",
              "      border-radius: 50%;\n",
              "      cursor: pointer;\n",
              "      display: none;\n",
              "      fill: #1967D2;\n",
              "      height: 32px;\n",
              "      padding: 0 0 0 0;\n",
              "      width: 32px;\n",
              "    }\n",
              "\n",
              "    .colab-df-convert:hover {\n",
              "      background-color: #E2EBFA;\n",
              "      box-shadow: 0px 1px 2px rgba(60, 64, 67, 0.3), 0px 1px 3px 1px rgba(60, 64, 67, 0.15);\n",
              "      fill: #174EA6;\n",
              "    }\n",
              "\n",
              "    [theme=dark] .colab-df-convert {\n",
              "      background-color: #3B4455;\n",
              "      fill: #D2E3FC;\n",
              "    }\n",
              "\n",
              "    [theme=dark] .colab-df-convert:hover {\n",
              "      background-color: #434B5C;\n",
              "      box-shadow: 0px 1px 3px 1px rgba(0, 0, 0, 0.15);\n",
              "      filter: drop-shadow(0px 1px 2px rgba(0, 0, 0, 0.3));\n",
              "      fill: #FFFFFF;\n",
              "    }\n",
              "  </style>\n",
              "\n",
              "      <script>\n",
              "        const buttonEl =\n",
              "          document.querySelector('#df-01e12e5f-e178-4954-8d64-718990b23a54 button.colab-df-convert');\n",
              "        buttonEl.style.display =\n",
              "          google.colab.kernel.accessAllowed ? 'block' : 'none';\n",
              "\n",
              "        async function convertToInteractive(key) {\n",
              "          const element = document.querySelector('#df-01e12e5f-e178-4954-8d64-718990b23a54');\n",
              "          const dataTable =\n",
              "            await google.colab.kernel.invokeFunction('convertToInteractive',\n",
              "                                                     [key], {});\n",
              "          if (!dataTable) return;\n",
              "\n",
              "          const docLinkHtml = 'Like what you see? Visit the ' +\n",
              "            '<a target=\"_blank\" href=https://colab.research.google.com/notebooks/data_table.ipynb>data table notebook</a>'\n",
              "            + ' to learn more about interactive tables.';\n",
              "          element.innerHTML = '';\n",
              "          dataTable['output_type'] = 'display_data';\n",
              "          await google.colab.output.renderOutput(dataTable, element);\n",
              "          const docLink = document.createElement('div');\n",
              "          docLink.innerHTML = docLinkHtml;\n",
              "          element.appendChild(docLink);\n",
              "        }\n",
              "      </script>\n",
              "    </div>\n",
              "  </div>\n",
              "  "
            ],
            "text/plain": [
              "              qtKill       qtAssist        qtDeath           qtHs  qtBombeDefuse   qtBombePlant           qtTk     qtTkAssist        qt1Kill        qt2Kill        qt3Kill        qt4Kill        qt5Kill  qtPlusKill    qtFirstKill       vlDamage         qtHits        qtShots    qtLastAlive    qtClutchWon  qtRoundsPlayed    descMapName        vlLevel     qtSurvived        qtTrade  qtFlashAssist  qtHitHeadshot     qtHitChest   qtHitStomach   qtHitLeftAtm  qtHitRightArm   qtHitLeftLeg  qtHitRightLeg       flWinner\n",
              "count  184152.000000  184152.000000  184152.000000  184152.000000  184152.000000  184152.000000  184152.000000  184152.000000  184152.000000  184152.000000  184152.000000  184152.000000  184152.000000    184152.0  184152.000000  184152.000000  184152.000000  184152.000000  184152.000000  184152.000000   184152.000000  184152.000000  184152.000000  184152.000000  184152.000000  184152.000000  184152.000000  184152.000000  184152.000000  184152.000000  184152.000000  184152.000000  184152.000000  184152.000000\n",
              "mean       19.113531       3.756033      18.792459       7.640123       0.316054       1.321349       0.022463       0.249299       8.009943       3.430107       1.066874       0.221105       0.024958         0.0       2.698005    2500.991268      64.277283     454.456085       0.713985       0.469308       26.461054       3.233628      13.668350       6.954079       3.095254       0.570012       9.642889      29.305194      13.525509       1.902511       5.106091       2.265641       2.496509       0.493766\n",
              "std         7.481041       2.205265       5.211614       4.042324       0.575803       1.336699       0.156515       0.550384       3.043061       2.050622       1.129075       0.492353       0.159542         0.0       1.949036     878.257039      22.915043     171.299525       1.292716       0.714377        5.873889       1.842648       4.684848       3.232244       1.881415       0.905037       4.760584      11.635656       7.088459       1.647163       2.918581       2.058342       2.158414       0.499962\n",
              "min         0.000000       0.000000       0.000000       0.000000       0.000000       0.000000       0.000000       0.000000       0.000000       0.000000       0.000000       0.000000       0.000000         0.0       0.000000       0.000000       0.000000       0.000000       0.000000       0.000000        1.000000       0.000000       0.000000       0.000000       0.000000       0.000000       0.000000       0.000000       0.000000       0.000000       0.000000       0.000000       0.000000       0.000000\n",
              "25%        14.000000       2.000000      16.000000       5.000000       0.000000       0.000000       0.000000       0.000000       6.000000       2.000000       0.000000       0.000000       0.000000         0.0       1.000000    1926.000000      49.000000     341.000000       0.000000       0.000000       23.000000       2.000000      10.000000       5.000000       2.000000       0.000000       6.000000      21.000000       8.000000       1.000000       3.000000       1.000000       1.000000       0.000000\n",
              "50%        19.000000       4.000000      19.000000       7.000000       0.000000       1.000000       0.000000       0.000000       8.000000       3.000000       1.000000       0.000000       0.000000         0.0       2.000000    2453.000000      63.000000     435.000000       0.000000       0.000000       27.000000       3.000000      14.000000       7.000000       3.000000       0.000000       9.000000      28.000000      13.000000       2.000000       5.000000       2.000000       2.000000       0.000000\n",
              "75%        24.000000       5.000000      22.000000      10.000000       1.000000       2.000000       0.000000       0.000000      10.000000       5.000000       2.000000       0.000000       0.000000         0.0       4.000000    3017.000000      78.000000     546.000000       1.000000       1.000000       29.000000       4.000000      18.000000       9.000000       4.000000       1.000000      12.000000      36.000000      18.000000       3.000000       7.000000       3.000000       4.000000       1.000000\n",
              "max        85.000000      24.000000      65.000000      41.000000       5.000000      12.000000      12.000000       9.000000      31.000000      16.000000      11.000000       6.000000       3.000000         0.0      20.000000   10794.000000     277.000000    2131.000000      29.000000       8.000000       84.000000       7.000000      21.000000      37.000000      20.000000      14.000000      49.000000     122.000000      77.000000      17.000000      30.000000      21.000000      22.000000       1.000000"
            ]
          },
          "metadata": {},
          "execution_count": 36
        }
      ]
    },
    {
      "cell_type": "markdown",
      "source": [
        "## Divisão entre Previsores e Classe"
      ],
      "metadata": {
        "id": "cY-nCLqI0Z8Q"
      }
    },
    {
      "cell_type": "code",
      "source": [
        "\n",
        "X = df_lobby2.drop('flWinner', axis=1)"
      ],
      "metadata": {
        "id": "6wV1-g489pMV"
      },
      "execution_count": 37,
      "outputs": []
    },
    {
      "cell_type": "code",
      "source": [
        "y = df_lobby2['flWinner']"
      ],
      "metadata": {
        "id": "Z7d9Am-Z0dZy"
      },
      "execution_count": 38,
      "outputs": []
    },
    {
      "cell_type": "markdown",
      "source": [
        "## Escalonamento dos Atributos"
      ],
      "metadata": {
        "id": "fbhCmjTh0hLm"
      }
    },
    {
      "cell_type": "code",
      "source": [
        "# scaler_credit = StandardScaler()\n",
        "# X = scaler_credit.fit_transform(X)"
      ],
      "metadata": {
        "id": "kHOFKoka2AhM"
      },
      "execution_count": 39,
      "outputs": []
    },
    {
      "cell_type": "markdown",
      "source": [
        "## Divisão da Base em Teste e Treino"
      ],
      "metadata": {
        "id": "Z3oprvrD2FlP"
      }
    },
    {
      "cell_type": "code",
      "source": [
        "X_train, X_test, y_train, y_test = train_test_split(X, y)"
      ],
      "metadata": {
        "id": "lsxOggyc0dgO"
      },
      "execution_count": 40,
      "outputs": []
    },
    {
      "cell_type": "code",
      "source": [
        "sns.countplot(y)"
      ],
      "metadata": {
        "colab": {
          "base_uri": "https://localhost:8080/",
          "height": 466
        },
        "id": "Ym_GauGUGcmR",
        "outputId": "23825dbe-72e5-4566-e0fd-ac4796793aff"
      },
      "execution_count": 41,
      "outputs": [
        {
          "output_type": "stream",
          "name": "stderr",
          "text": [
            "/usr/local/lib/python3.7/dist-packages/seaborn/_decorators.py:43: FutureWarning: Pass the following variable as a keyword arg: x. From version 0.12, the only valid positional argument will be `data`, and passing other arguments without an explicit keyword will result in an error or misinterpretation.\n",
            "  FutureWarning\n"
          ]
        },
        {
          "output_type": "execute_result",
          "data": {
            "text/plain": [
              "<matplotlib.axes._subplots.AxesSubplot at 0x7fe0b58e21d0>"
            ]
          },
          "metadata": {},
          "execution_count": 41
        },
        {
          "output_type": "display_data",
          "data": {
            "image/png": "[encoded data removed]",
            "text/plain": [
              "<Figure size 720x432 with 1 Axes>"
            ]
          },
          "metadata": {}
        }
      ]
    },
    {
      "cell_type": "markdown",
      "source": [
        "## Logistic Regression"
      ],
      "metadata": {
        "id": "ZouAA2zjVRPN"
      }
    },
    {
      "cell_type": "code",
      "source": [
        "# 2. Instanciar e escolher os hyperparameters\n",
        "model = LogisticRegression(max_iter=138114)\n",
        "\n",
        "# # 3.2 Padronizar os dados de treino\n",
        "scaler = StandardScaler()\n",
        "X_train = scaler.fit_transform(X_train)\n",
        "\n",
        "# 4. Fit do modelo (treinar)\n",
        "model.fit(X_train, y_train)\n",
        "\n",
        "# 5. Fazer previsões em cima de novos dados\n",
        "X_test = scaler.transform(X_test)  # padronizar os dados de teste\n",
        "y_pred_log = model.predict(X_test)\n",
        "\n",
        "\n",
        "# # 4. Cross-validation\n",
        "# X_train_transformed = scaler.transform(X_train)\n",
        "# log_score = cross_val_score(model, X_train_transformed, y_train, cv=4)\n",
        "# print(\"scores: \", log_score)\n",
        "# print(\"Acurácia: %0.2f (+/- %0.2f)\" % (log_score.mean(), log_score.std() * 2))"
      ],
      "metadata": {
        "id": "2BOYV5ngF8Do"
      },
      "execution_count": 42,
      "outputs": []
    },
    {
      "cell_type": "code",
      "source": [
        "print(classification_report(y_test, y_pred_log))"
      ],
      "metadata": {
        "id": "fD0y1tst9pSJ",
        "colab": {
          "base_uri": "https://localhost:8080/"
        },
        "outputId": "9230e997-c89e-4ca1-c875-6c46e603231c"
      },
      "execution_count": 43,
      "outputs": [
        {
          "output_type": "stream",
          "name": "stdout",
          "text": [
            "              precision    recall  f1-score   support\n",
            "\n",
            "           0       0.80      0.81      0.81     23250\n",
            "           1       0.80      0.79      0.80     22788\n",
            "\n",
            "    accuracy                           0.80     46038\n",
            "   macro avg       0.80      0.80      0.80     46038\n",
            "weighted avg       0.80      0.80      0.80     46038\n",
            "\n"
          ]
        }
      ]
    },
    {
      "cell_type": "code",
      "source": [
        "fig, ax = plt.subplots()\n",
        "sns.heatmap(confusion_matrix(y_test, y_pred_log), annot=True, ax=ax, fmt='g')\n",
        "\n",
        "ax.set_title(\"Matriz de Confusão\")\n",
        "ax.set_ylabel(\"Ganhou?\")\n",
        "ax.set_xlabel(\"Previsto\")"
      ],
      "metadata": {
        "id": "09PsyGnK9pdX",
        "colab": {
          "base_uri": "https://localhost:8080/",
          "height": 427
        },
        "outputId": "203e84e6-60f1-44eb-b796-b6c49c8e5640"
      },
      "execution_count": 44,
      "outputs": [
        {
          "output_type": "execute_result",
          "data": {
            "text/plain": [
              "Text(0.5, 30.5, 'Previsto')"
            ]
          },
          "metadata": {},
          "execution_count": 44
        },
        {
          "output_type": "display_data",
          "data": {
            "image/png": "[encoded data removed]",
            "text/plain": [
              "<Figure size 720x432 with 2 Axes>"
            ]
          },
          "metadata": {}
        }
      ]
    },
    {
      "cell_type": "markdown",
      "source": [
        "## CatBoost"
      ],
      "metadata": {
        "id": "J06Bj-ssVH6C"
      }
    },
    {
      "cell_type": "code",
      "source": [
        "# Treinando o modelo\n",
        "cb = CatBoostClassifier(learning_rate=0.03, depth=6, l2_leaf_reg=5, logging_level='Silent')\n",
        "cb.fit(X_train, y_train)\n",
        "\n",
        "# Prevendo\n",
        "y_pred_log = cb.predict(X_test)\n",
        "\n",
        "# classification report\n",
        "print(classification_report(y_test, y_pred_log))\n",
        "\n",
        "# confusion matrix\n",
        "fig, ax = plt.subplots()\n",
        "sns.heatmap(confusion_matrix(y_test, y_pred_log), annot=True, ax=ax, fmt='g')\n",
        "ax.set_title('Confusion Matrix - CatBoost')\n",
        "ax.set_xlabel('Predicted Value')\n",
        "ax.set_ylabel('Real Value')\n",
        "\n",
        "plt.show()"
      ],
      "metadata": {
        "id": "Oc9KrAJq9phi",
        "colab": {
          "base_uri": "https://localhost:8080/",
          "height": 566
        },
        "outputId": "e838a847-633f-4773-d72b-298dec51c1ea"
      },
      "execution_count": 45,
      "outputs": [
        {
          "output_type": "stream",
          "name": "stderr",
          "text": [
            "Custom logger is already specified. Specify more than one logger at same time is not thread safe."
          ]
        },
        {
          "output_type": "stream",
          "name": "stdout",
          "text": [
            "              precision    recall  f1-score   support\n",
            "\n",
            "           0       0.80      0.83      0.81     23250\n",
            "           1       0.82      0.78      0.80     22788\n",
            "\n",
            "    accuracy                           0.81     46038\n",
            "   macro avg       0.81      0.80      0.80     46038\n",
            "weighted avg       0.81      0.81      0.81     46038\n",
            "\n"
          ]
        },
        {
          "output_type": "display_data",
          "data": {
            "image/png": "[encoded data removed]",
            "text/plain": [
              "<Figure size 720x432 with 2 Axes>"
            ]
          },
          "metadata": {}
        }
      ]
    },
    {
      "cell_type": "markdown",
      "source": [
        "## LightGBM"
      ],
      "metadata": {
        "id": "So1LHekPU94u"
      }
    },
    {
      "cell_type": "code",
      "source": [
        "# Treinando o Modelo\n",
        "lgb = LGBMClassifier(num_leaves=70, max_depth=5, learning_rate=0.01, min_data_in_leaf=400)\n",
        "lgb.fit(X_train, y_train)\n",
        "\n",
        "# Prevendo\n",
        "y_pred_lgb = lgb.predict(X_test)\n",
        "\n",
        "# classification report\n",
        "print(classification_report(y_test, y_pred_lgb))\n",
        "\n",
        "# confusion matrix\n",
        "fig, ax = plt.subplots()\n",
        "sns.heatmap(confusion_matrix(y_test, y_pred_lgb), annot=True, ax=ax, fmt='g')\n",
        "ax.set_title('Confusion Matrix - LightGBM')\n",
        "ax.set_xlabel('Predicted Value')\n",
        "ax.set_ylabel('Real Value')\n",
        "\n",
        "plt.show()"
      ],
      "metadata": {
        "id": "MaTwFwHH9pkF",
        "colab": {
          "base_uri": "https://localhost:8080/",
          "height": 566
        },
        "outputId": "733fd131-6e49-49ed-815b-a7cffd2fc75e"
      },
      "execution_count": 46,
      "outputs": [
        {
          "output_type": "stream",
          "name": "stdout",
          "text": [
            "              precision    recall  f1-score   support\n",
            "\n",
            "           0       0.78      0.80      0.79     23250\n",
            "           1       0.79      0.76      0.78     22788\n",
            "\n",
            "    accuracy                           0.78     46038\n",
            "   macro avg       0.78      0.78      0.78     46038\n",
            "weighted avg       0.78      0.78      0.78     46038\n",
            "\n"
          ]
        },
        {
          "output_type": "display_data",
          "data": {
            "image/png": "[encoded data removed]",
            "text/plain": [
              "<Figure size 720x432 with 2 Axes>"
            ]
          },
          "metadata": {}
        }
      ]
    },
    {
      "cell_type": "markdown",
      "source": [
        "## XGBoost"
      ],
      "metadata": {
        "id": "bp7K1F87U2v3"
      }
    },
    {
      "cell_type": "code",
      "source": [
        "# Treinando o modelo\n",
        "xgb = XGBClassifier(gamma=0, learning_rate=0.1, max_depth=3, n_estimators=50)\n",
        "xgb.fit(X_train, y_train)"
      ],
      "metadata": {
        "id": "YXO_so879psX",
        "colab": {
          "base_uri": "https://localhost:8080/"
        },
        "outputId": "7d8b7a08-6d1e-49b3-ef78-edd34df4301d"
      },
      "execution_count": 47,
      "outputs": [
        {
          "output_type": "execute_result",
          "data": {
            "text/plain": [
              "XGBClassifier(n_estimators=50)"
            ]
          },
          "metadata": {},
          "execution_count": 47
        }
      ]
    },
    {
      "cell_type": "code",
      "source": [
        "# Prevendo\n",
        "y_pred_xgb = xgb.predict(X_test)"
      ],
      "metadata": {
        "id": "GHX5l56yJ2Xk"
      },
      "execution_count": 48,
      "outputs": []
    },
    {
      "cell_type": "code",
      "source": [
        "# classification report\n",
        "print(classification_report(y_test, y_pred_xgb))\n",
        "\n",
        "# confusion matrix\n",
        "fig, ax = plt.subplots()\n",
        "sns.heatmap(confusion_matrix(y_test, y_pred_xgb), annot=True, ax=ax)\n",
        "ax.set_title('Confusion Matrix - XGBoost')\n",
        "ax.set_xlabel('Predicted Value')\n",
        "ax.set_ylabel('Real Value')\n",
        "\n",
        "plt.show()"
      ],
      "metadata": {
        "colab": {
          "base_uri": "https://localhost:8080/",
          "height": 566
        },
        "id": "Hx57hFFiJ8YN",
        "outputId": "2e68bd24-3ca6-4305-872b-1424d8d20fd0"
      },
      "execution_count": 49,
      "outputs": [
        {
          "output_type": "stream",
          "name": "stdout",
          "text": [
            "              precision    recall  f1-score   support\n",
            "\n",
            "           0       0.78      0.81      0.79     23250\n",
            "           1       0.80      0.77      0.78     22788\n",
            "\n",
            "    accuracy                           0.79     46038\n",
            "   macro avg       0.79      0.79      0.79     46038\n",
            "weighted avg       0.79      0.79      0.79     46038\n",
            "\n"
          ]
        },
        {
          "output_type": "display_data",
          "data": {
            "image/png": "[encoded data removed]",
            "text/plain": [
              "<Figure size 720x432 with 2 Axes>"
            ]
          },
          "metadata": {}
        }
      ]
    }
  ]
}